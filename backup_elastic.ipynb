{
 "cells": [
  {
   "cell_type": "code",
   "execution_count": 27,
   "metadata": {},
   "outputs": [
    {
     "name": "stdout",
     "output_type": "stream",
     "text": [
      "[sudo] password for learner: "
     ]
    }
   ],
   "source": [
    "!echo 'learner' | sudo -S rm -rf /var/backups/elastic"
   ]
  },
  {
   "cell_type": "code",
   "execution_count": 28,
   "metadata": {},
   "outputs": [
    {
     "name": "stdout",
     "output_type": "stream",
     "text": [
      "[sudo] password for learner: "
     ]
    }
   ],
   "source": [
    "!echo 'learner' | sudo -S mkdir /var/backups/elastic"
   ]
  },
  {
   "cell_type": "code",
   "execution_count": 29,
   "metadata": {},
   "outputs": [
    {
     "name": "stdout",
     "output_type": "stream",
     "text": [
      "[sudo] password for learner: "
     ]
    }
   ],
   "source": [
    "!echo 'learner' | sudo -S chown -R elasticsearch:elasticsearch /var/backups/elastic"
   ]
  },
  {
   "cell_type": "code",
   "execution_count": 30,
   "metadata": {},
   "outputs": [
    {
     "name": "stdout",
     "output_type": "stream",
     "text": [
      "total 8\r\n",
      "drwxr-xr-x 2 elasticsearch elasticsearch 4096 Jun 29 14:59 .\r\n",
      "drwxr-xr-x 3 root          root          4096 Jun 29 14:59 ..\r\n"
     ]
    }
   ],
   "source": [
    "!ls -la /var/backups/elastic"
   ]
  },
  {
   "cell_type": "code",
   "execution_count": 31,
   "metadata": {},
   "outputs": [
    {
     "name": "stdout",
     "output_type": "stream",
     "text": [
      "{\"acknowledged\":true}"
     ]
    }
   ],
   "source": [
    "!curl -XPUT 'http://localhost:9200/_snapshot/my_backup' \\\n",
    "-d '{                                    \\\n",
    "  \"type\": \"fs\",                          \\\n",
    "  \"settings\": {                          \\\n",
    "     \"location\": \"/var/backups/elastic\", \\\n",
    "     \"compress\": true                    \\\n",
    "  }                                      \\\n",
    "}'"
   ]
  },
  {
   "cell_type": "code",
   "execution_count": 32,
   "metadata": {},
   "outputs": [
    {
     "name": "stdout",
     "output_type": "stream",
     "text": [
      "{\"snapshot\":{\"snapshot\":\"snapshot_1\",\"uuid\":\"VFYRiigtSBOMHu2oW4eNxA\",\"version_id\":5040399,\"version\":\"5.4.3\",\"indices\":[\".kibana\",\"filebeat-2017.06.29\"],\"state\":\"SUCCESS\",\"start_time\":\"2017-06-29T13:00:33.786Z\",\"start_time_in_millis\":1498741233786,\"end_time\":\"2017-06-29T13:00:34.643Z\",\"end_time_in_millis\":1498741234643,\"duration_in_millis\":857,\"failures\":[],\"shards\":{\"total\":6,\"failed\":0,\"successful\":6}}}"
     ]
    }
   ],
   "source": [
    "!curl -XPUT \"localhost:9200/_snapshot/my_backup/snapshot_1?wait_for_completion=true\""
   ]
  },
  {
   "cell_type": "code",
   "execution_count": 33,
   "metadata": {},
   "outputs": [
    {
     "name": "stdout",
     "output_type": "stream",
     "text": [
      "{\r\n",
      "  \"snapshots\" : [\r\n",
      "    {\r\n",
      "      \"snapshot\" : \"snapshot_1\",\r\n",
      "      \"uuid\" : \"VFYRiigtSBOMHu2oW4eNxA\",\r\n",
      "      \"version_id\" : 5040399,\r\n",
      "      \"version\" : \"5.4.3\",\r\n",
      "      \"indices\" : [\r\n",
      "        \".kibana\",\r\n",
      "        \"filebeat-2017.06.29\"\r\n",
      "      ],\r\n",
      "      \"state\" : \"SUCCESS\",\r\n",
      "      \"start_time\" : \"2017-06-29T13:00:33.786Z\",\r\n",
      "      \"start_time_in_millis\" : 1498741233786,\r\n",
      "      \"end_time\" : \"2017-06-29T13:00:34.643Z\",\r\n",
      "      \"end_time_in_millis\" : 1498741234643,\r\n",
      "      \"duration_in_millis\" : 857,\r\n",
      "      \"failures\" : [ ],\r\n",
      "      \"shards\" : {\r\n",
      "        \"total\" : 6,\r\n",
      "        \"failed\" : 0,\r\n",
      "        \"successful\" : 6\r\n",
      "      }\r\n",
      "    }\r\n",
      "  ]\r\n",
      "}\r\n"
     ]
    }
   ],
   "source": [
    "!curl -XGET 'localhost:9200/_snapshot/my_backup/_all?pretty'"
   ]
  },
  {
   "cell_type": "code",
   "execution_count": 34,
   "metadata": {},
   "outputs": [
    {
     "name": "stdout",
     "output_type": "stream",
     "text": [
      "total 32\r\n",
      "drwxr-xr-x 3 elasticsearch elasticsearch 4096 Jun 29 15:00 .\r\n",
      "drwxr-xr-x 3 root          root          4096 Jun 29 14:59 ..\r\n",
      "-rw-r--r-- 1 elasticsearch elasticsearch   29 Jun 29 15:00 incompatible-snapshots\r\n",
      "-rw-r--r-- 1 elasticsearch elasticsearch  313 Jun 29 15:00 index-0\r\n",
      "-rw-r--r-- 1 elasticsearch elasticsearch    8 Jun 29 15:00 index.latest\r\n",
      "drwxr-xr-x 4 elasticsearch elasticsearch 4096 Jun 29 15:00 indices\r\n",
      "-rw-r--r-- 1 elasticsearch elasticsearch  123 Jun 29 15:00 meta-VFYRiigtSBOMHu2oW4eNxA.dat\r\n",
      "-rw-r--r-- 1 elasticsearch elasticsearch  230 Jun 29 15:00 snap-VFYRiigtSBOMHu2oW4eNxA.dat\r\n"
     ]
    }
   ],
   "source": [
    "!ls -la /var/backups/elastic"
   ]
  },
  {
   "cell_type": "code",
   "execution_count": null,
   "metadata": {
    "collapsed": true
   },
   "outputs": [],
   "source": []
  }
 ],
 "metadata": {
  "kernelspec": {
   "display_name": "Python 3",
   "language": "python",
   "name": "python3"
  },
  "language_info": {
   "codemirror_mode": {
    "name": "ipython",
    "version": 3
   },
   "file_extension": ".py",
   "mimetype": "text/x-python",
   "name": "python",
   "nbconvert_exporter": "python",
   "pygments_lexer": "ipython3",
   "version": "3.5.2"
  }
 },
 "nbformat": 4,
 "nbformat_minor": 2
}
